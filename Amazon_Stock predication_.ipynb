{
  "cells": [
    {
      "cell_type": "markdown",
      "metadata": {
        "id": "view-in-github",
        "colab_type": "text"
      },
      "source": [
        "<a href=\"https://colab.research.google.com/github/pradeepsamm/stocks/blob/main/Amazon_Stock%20predication_.ipynb\" target=\"_parent\"><img src=\"https://colab.research.google.com/assets/colab-badge.svg\" alt=\"Open In Colab\"/></a>"
      ]
    },
    {
      "cell_type": "code",
      "execution_count": null,
      "metadata": {
        "id": "C50A2KBKRQDo"
      },
      "outputs": [],
      "source": [
        "import pandas as pd\n",
        "import matplotlib.pyplot as plt\n",
        "import seaborn as sns\n",
        "from sklearn.preprocessing import MinMaxScaler\n",
        "import numpy as np"
      ]
    },
    {
      "cell_type": "code",
      "execution_count": null,
      "metadata": {
        "id": "h5bQ11QlRQDp",
        "outputId": "03fb93a9-e250-4aac-eaa8-87a245c82eaa"
      },
      "outputs": [
        {
          "data": {
            "text/html": [
              "<div>\n",
              "<style scoped>\n",
              "    .dataframe tbody tr th:only-of-type {\n",
              "        vertical-align: middle;\n",
              "    }\n",
              "\n",
              "    .dataframe tbody tr th {\n",
              "        vertical-align: top;\n",
              "    }\n",
              "\n",
              "    .dataframe thead th {\n",
              "        text-align: right;\n",
              "    }\n",
              "</style>\n",
              "<table border=\"1\" class=\"dataframe\">\n",
              "  <thead>\n",
              "    <tr style=\"text-align: right;\">\n",
              "      <th></th>\n",
              "      <th>Date</th>\n",
              "      <th>Open</th>\n",
              "      <th>High</th>\n",
              "      <th>Low</th>\n",
              "      <th>Close</th>\n",
              "      <th>Adj Close</th>\n",
              "      <th>Volume</th>\n",
              "    </tr>\n",
              "  </thead>\n",
              "  <tbody>\n",
              "    <tr>\n",
              "      <th>0</th>\n",
              "      <td>2014-01-02</td>\n",
              "      <td>398.799988</td>\n",
              "      <td>399.359985</td>\n",
              "      <td>394.019989</td>\n",
              "      <td>397.970001</td>\n",
              "      <td>397.970001</td>\n",
              "      <td>2137800</td>\n",
              "    </tr>\n",
              "    <tr>\n",
              "      <th>1</th>\n",
              "      <td>2014-01-03</td>\n",
              "      <td>398.290009</td>\n",
              "      <td>402.709991</td>\n",
              "      <td>396.220001</td>\n",
              "      <td>396.440002</td>\n",
              "      <td>396.440002</td>\n",
              "      <td>2210200</td>\n",
              "    </tr>\n",
              "    <tr>\n",
              "      <th>2</th>\n",
              "      <td>2014-01-06</td>\n",
              "      <td>395.850006</td>\n",
              "      <td>397.000000</td>\n",
              "      <td>388.420013</td>\n",
              "      <td>393.630005</td>\n",
              "      <td>393.630005</td>\n",
              "      <td>3170600</td>\n",
              "    </tr>\n",
              "    <tr>\n",
              "      <th>3</th>\n",
              "      <td>2014-01-07</td>\n",
              "      <td>395.040009</td>\n",
              "      <td>398.470001</td>\n",
              "      <td>394.290009</td>\n",
              "      <td>398.029999</td>\n",
              "      <td>398.029999</td>\n",
              "      <td>1916000</td>\n",
              "    </tr>\n",
              "    <tr>\n",
              "      <th>4</th>\n",
              "      <td>2014-01-08</td>\n",
              "      <td>398.470001</td>\n",
              "      <td>403.000000</td>\n",
              "      <td>396.040009</td>\n",
              "      <td>401.920013</td>\n",
              "      <td>401.920013</td>\n",
              "      <td>2316500</td>\n",
              "    </tr>\n",
              "  </tbody>\n",
              "</table>\n",
              "</div>"
            ],
            "text/plain": [
              "         Date        Open        High         Low       Close   Adj Close  \\\n",
              "0  2014-01-02  398.799988  399.359985  394.019989  397.970001  397.970001   \n",
              "1  2014-01-03  398.290009  402.709991  396.220001  396.440002  396.440002   \n",
              "2  2014-01-06  395.850006  397.000000  388.420013  393.630005  393.630005   \n",
              "3  2014-01-07  395.040009  398.470001  394.290009  398.029999  398.029999   \n",
              "4  2014-01-08  398.470001  403.000000  396.040009  401.920013  401.920013   \n",
              "\n",
              "    Volume  \n",
              "0  2137800  \n",
              "1  2210200  \n",
              "2  3170600  \n",
              "3  1916000  \n",
              "4  2316500  "
            ]
          },
          "execution_count": 2,
          "metadata": {},
          "output_type": "execute_result"
        }
      ],
      "source": [
        "df = pd.read_csv(\"./Databases/AmazonStockPrices/AMZNtrain.csv\")\n",
        "df.head()"
      ]
    },
    {
      "cell_type": "code",
      "execution_count": null,
      "metadata": {
        "id": "sC63YI2FRQDq",
        "outputId": "a651b3b0-5d8e-4372-b21a-a5deeab4c961"
      },
      "outputs": [
        {
          "data": {
            "text/plain": [
              "[<matplotlib.lines.Line2D at 0x7f8e51326130>]"
            ]
          },
          "execution_count": 3,
          "metadata": {},
          "output_type": "execute_result"
        },
        {
          "data": {
            "image/png": "[encoded data removed]",
            "text/plain": [
              "<Figure size 432x288 with 1 Axes>"
            ]
          },
          "metadata": {},
          "output_type": "display_data"
        }
      ],
      "source": [
        "x = df['Date']\n",
        "y = df['Close']\n",
        "sns.set_style(\"dark\")\n",
        "plt.plot(x, y)"
      ]
    },
    {
      "cell_type": "code",
      "execution_count": null,
      "metadata": {
        "id": "Rm1tKJBSRQDq",
        "outputId": "74f11fb0-a74f-4bb7-a51b-492e23e10e30"
      },
      "outputs": [
        {
          "name": "stderr",
          "output_type": "stream",
          "text": [
            "/tmp/ipykernel_27469/3422120305.py:4: SettingWithCopyWarning: \n",
            "A value is trying to be set on a copy of a slice from a DataFrame.\n",
            "Try using .loc[row_indexer,col_indexer] = value instead\n",
            "\n",
            "See the caveats in the documentation: https://pandas.pydata.org/pandas-docs/stable/user_guide/indexing.html#returning-a-view-versus-a-copy\n",
            "  price['Close'] = scaler.fit_transform(price['Close'].values.reshape(-1,1))\n"
          ]
        }
      ],
      "source": [
        "price = df[['Close']]\n",
        "\n",
        "scaler = MinMaxScaler(feature_range=(-1,1))\n",
        "price['Close'] = scaler.fit_transform(price['Close'].values.reshape(-1,1))"
      ]
    },
    {
      "cell_type": "code",
      "execution_count": null,
      "metadata": {
        "id": "rBjjX3e3RQDq"
      },
      "outputs": [],
      "source": [
        "def split_data(stock, lookback):\n",
        "    data_raw = stock.to_numpy() # convert to numpy array\n",
        "    data = []\n",
        "\n",
        "    # create all possible sequences of length seq_len\n",
        "    for index in range(len(data_raw) - lookback):\n",
        "        data.append(data_raw[index: index + lookback])\n",
        "\n",
        "    data = np.array(data);\n",
        "    test_set_size = int(np.round(0.2*data.shape[0]));\n",
        "    train_set_size = data.shape[0] - (test_set_size);\n",
        "\n",
        "    x_train = data[:train_set_size,:-1,:]\n",
        "    y_train = data[:train_set_size,-1,:]\n",
        "\n",
        "    x_test = data[train_set_size:,:-1]\n",
        "    y_test = data[train_set_size:,-1,:]\n",
        "\n",
        "    return [x_train, y_train, x_test, y_test]\n",
        "\n",
        "lookback = 20 # choose sequence length\n",
        "x_train, y_train, x_test, y_test = split_data(price, lookback)"
      ]
    },
    {
      "cell_type": "code",
      "execution_count": null,
      "metadata": {
        "id": "yG_944xyRQDq"
      },
      "outputs": [],
      "source": [
        "import torch\n",
        "import torch.nn as nn"
      ]
    },
    {
      "cell_type": "code",
      "execution_count": null,
      "metadata": {
        "id": "jNAVEOetRQDr"
      },
      "outputs": [],
      "source": [
        "x_train = torch.from_numpy(x_train).type(torch.Tensor)\n",
        "x_test = torch.from_numpy(x_test).type(torch.Tensor)\n",
        "y_train_lstm = torch.from_numpy(y_train).type(torch.Tensor)\n",
        "y_test_lstm = torch.from_numpy(y_test).type(torch.Tensor)\n",
        "y_train_gru = torch.from_numpy(y_train).type(torch.Tensor)\n",
        "y_test_gru = torch.from_numpy(y_test).type(torch.Tensor)"
      ]
    },
    {
      "cell_type": "code",
      "execution_count": null,
      "metadata": {
        "id": "t0xtn0sQRQDs"
      },
      "outputs": [],
      "source": [
        "input_dim = 1\n",
        "hidden_dim = 32\n",
        "num_layers = 2\n",
        "output_dim = 1\n",
        "num_epochs = 100"
      ]
    },
    {
      "cell_type": "code",
      "execution_count": null,
      "metadata": {
        "id": "7Ls2C3B2RQDt"
      },
      "outputs": [],
      "source": [
        "class LSTM(nn.Module):\n",
        "    def __init__(self, input_dim, hidden_dim, num_layers, output_dim):\n",
        "        super(LSTM, self).__init__()\n",
        "        self.hidden_dim = hidden_dim\n",
        "        self.num_layers = num_layers\n",
        "\n",
        "        self.lstm = nn.LSTM(input_dim, hidden_dim, num_layers, batch_first = True)\n",
        "\n",
        "        self.fc = nn.Linear(hidden_dim, output_dim)\n",
        "\n",
        "    def forward(self, x):\n",
        "        h0 = torch.zeros(self.num_layers, x.size(0), self.hidden_dim).requires_grad_()\n",
        "        c0 = torch.zeros(self.num_layers, x.size(0), self.hidden_dim).requires_grad_()\n",
        "\n",
        "        out, (hn, cn) = self.lstm(x, (h0.detach(), c0.detach()))\n",
        "        out = self.fc(out[:, -1, :])\n",
        "        return out"
      ]
    },
    {
      "cell_type": "code",
      "execution_count": null,
      "metadata": {
        "id": "0VzoKYS0RQDv"
      },
      "outputs": [],
      "source": [
        "model = LSTM(input_dim=input_dim, hidden_dim=hidden_dim, output_dim=output_dim, num_layers=num_layers)\n",
        "criterion = torch.nn.MSELoss(reduction='mean')\n",
        "optimiser = torch.optim.Adam(model.parameters(), lr=0.01)"
      ]
    },
    {
      "cell_type": "code",
      "execution_count": null,
      "metadata": {
        "id": "38OuVyoNRQDx",
        "outputId": "977870e0-963e-4257-ec88-78bb66fd6eb2"
      },
      "outputs": [
        {
          "name": "stdout",
          "output_type": "stream",
          "text": [
            "Epoch  0 MSE:  0.5399134159088135\n",
            "Epoch  1 MSE:  0.36458873748779297\n",
            "Epoch  2 MSE:  0.17374257743358612\n",
            "Epoch  3 MSE:  0.07232511043548584\n",
            "Epoch  4 MSE:  0.17428749799728394\n",
            "Epoch  5 MSE:  0.0851665735244751\n",
            "Epoch  6 MSE:  0.06653928756713867\n",
            "Epoch  7 MSE:  0.08550455421209335\n",
            "Epoch  8 MSE:  0.09806451201438904\n",
            "Epoch  9 MSE:  0.09608735889196396\n",
            "Epoch  10 MSE:  0.08408394455909729\n",
            "Epoch  11 MSE:  0.0691225677728653\n",
            "Epoch  12 MSE:  0.05813386291265488\n",
            "Epoch  13 MSE:  0.055644262582063675\n",
            "Epoch  14 MSE:  0.060322556644678116\n",
            "Epoch  15 MSE:  0.06340453028678894\n",
            "Epoch  16 MSE:  0.056806180626153946\n",
            "Epoch  17 MSE:  0.04312429577112198\n",
            "Epoch  18 MSE:  0.03133068606257439\n",
            "Epoch  19 MSE:  0.026496490463614464\n",
            "Epoch  20 MSE:  0.02424217388033867\n",
            "Epoch  21 MSE:  0.015078178606927395\n",
            "Epoch  22 MSE:  0.0031669752206653357\n",
            "Epoch  23 MSE:  0.006960354279726744\n",
            "Epoch  24 MSE:  0.014623373746871948\n",
            "Epoch  25 MSE:  0.013974232599139214\n",
            "Epoch  26 MSE:  0.011416187509894371\n",
            "Epoch  27 MSE:  0.009411734528839588\n",
            "Epoch  28 MSE:  0.006822207942605019\n",
            "Epoch  29 MSE:  0.004505138378590345\n",
            "Epoch  30 MSE:  0.0037803142331540585\n",
            "Epoch  31 MSE:  0.004650699440389872\n",
            "Epoch  32 MSE:  0.006045050453394651\n",
            "Epoch  33 MSE:  0.0068649048916995525\n",
            "Epoch  34 MSE:  0.0067639402113854885\n",
            "Epoch  35 MSE:  0.006102440413087606\n",
            "Epoch  36 MSE:  0.005347154568880796\n",
            "Epoch  37 MSE:  0.004612465854734182\n",
            "Epoch  38 MSE:  0.0037531873676925898\n",
            "Epoch  39 MSE:  0.002799780573695898\n",
            "Epoch  40 MSE:  0.0021232953295111656\n",
            "Epoch  41 MSE:  0.0020114996004849672\n",
            "Epoch  42 MSE:  0.0022380477748811245\n",
            "Epoch  43 MSE:  0.002405581995844841\n",
            "Epoch  44 MSE:  0.002520597307011485\n",
            "Epoch  45 MSE:  0.0027271967846900225\n",
            "Epoch  46 MSE:  0.0027919558342546225\n",
            "Epoch  47 MSE:  0.0024928825441747904\n",
            "Epoch  48 MSE:  0.002095812698826194\n",
            "Epoch  49 MSE:  0.0018590586259961128\n",
            "Epoch  50 MSE:  0.0016657423693686724\n",
            "Epoch  51 MSE:  0.001462951535359025\n",
            "Epoch  52 MSE:  0.0014103121357038617\n",
            "Epoch  53 MSE:  0.0014957517851144075\n",
            "Epoch  54 MSE:  0.0015372982015833259\n",
            "Epoch  55 MSE:  0.0014980857959017158\n",
            "Epoch  56 MSE:  0.0014584721066057682\n",
            "Epoch  57 MSE:  0.0013999593211337924\n",
            "Epoch  58 MSE:  0.0012558806920424104\n",
            "Epoch  59 MSE:  0.0010798266157507896\n",
            "Epoch  60 MSE:  0.0009674460743553936\n",
            "Epoch  61 MSE:  0.0009078269940800965\n",
            "Epoch  62 MSE:  0.0008591600344516337\n",
            "Epoch  63 MSE:  0.0008516210946254432\n",
            "Epoch  64 MSE:  0.0008957778918556869\n",
            "Epoch  65 MSE:  0.0009213545708917081\n",
            "Epoch  66 MSE:  0.0008950211922638118\n",
            "Epoch  67 MSE:  0.0008549833437427878\n",
            "Epoch  68 MSE:  0.0008114614756777883\n",
            "Epoch  69 MSE:  0.000752817140892148\n",
            "Epoch  70 MSE:  0.0007083116215653718\n",
            "Epoch  71 MSE:  0.0007042475044727325\n",
            "Epoch  72 MSE:  0.0007177039515227079\n",
            "Epoch  73 MSE:  0.0007252813666127622\n",
            "Epoch  74 MSE:  0.0007325013284571469\n",
            "Epoch  75 MSE:  0.000736402696929872\n",
            "Epoch  76 MSE:  0.0007208606693893671\n",
            "Epoch  77 MSE:  0.0006914134719409049\n",
            "Epoch  78 MSE:  0.0006683875108137727\n",
            "Epoch  79 MSE:  0.0006542481714859605\n",
            "Epoch  80 MSE:  0.0006428168853744864\n",
            "Epoch  81 MSE:  0.0006393332150764763\n",
            "Epoch  82 MSE:  0.0006429984350688756\n",
            "Epoch  83 MSE:  0.0006399694830179214\n",
            "Epoch  84 MSE:  0.0006275248015299439\n",
            "Epoch  85 MSE:  0.000613892509136349\n",
            "Epoch  86 MSE:  0.0005993686500005424\n",
            "Epoch  87 MSE:  0.0005839692894369364\n",
            "Epoch  88 MSE:  0.0005749075789935887\n",
            "Epoch  89 MSE:  0.0005722420173697174\n",
            "Epoch  90 MSE:  0.0005692555569112301\n",
            "Epoch  91 MSE:  0.000565403897780925\n",
            "Epoch  92 MSE:  0.0005615800037048757\n",
            "Epoch  93 MSE:  0.0005545298918150365\n",
            "Epoch  94 MSE:  0.0005452720215544105\n",
            "Epoch  95 MSE:  0.0005382647505030036\n",
            "Epoch  96 MSE:  0.0005330960848368704\n",
            "Epoch  97 MSE:  0.0005287188105285168\n",
            "Epoch  98 MSE:  0.0005265769432298839\n",
            "Epoch  99 MSE:  0.0005248826346360147\n",
            "Training time: 13.461502075195312\n"
          ]
        }
      ],
      "source": [
        "import time\n",
        "hist = np.zeros(num_epochs)\n",
        "start_time = time.time()\n",
        "lstm = []\n",
        "for t in range(num_epochs):\n",
        "    y_train_pred = model(x_train)\n",
        "    loss = criterion(y_train_pred, y_train_lstm)\n",
        "    print(\"Epoch \", t, \"MSE: \", loss.item())\n",
        "    hist[t] = loss.item()\n",
        "    optimiser.zero_grad()\n",
        "    loss.backward()\n",
        "    optimiser.step()\n",
        "\n",
        "training_time = time.time()-start_time\n",
        "print(\"Training time: {}\".format(training_time))"
      ]
    },
    {
      "cell_type": "code",
      "execution_count": null,
      "metadata": {
        "id": "rGtVegrGRQDz"
      },
      "outputs": [],
      "source": [
        "predict = pd.DataFrame(scaler.inverse_transform(y_train_pred.detach().numpy()))\n",
        "original = pd.DataFrame(scaler.inverse_transform(y_train_lstm.detach().numpy()))"
      ]
    },
    {
      "cell_type": "code",
      "execution_count": null,
      "metadata": {
        "id": "tv3rkzv6RQDz",
        "outputId": "61c9fc1d-7c60-4235-8f29-4b0f00c9eb38"
      },
      "outputs": [
        {
          "data": {
            "image/png": "[encoded data removed]",
            "text/plain": [
              "<Figure size 1152x432 with 2 Axes>"
            ]
          },
          "metadata": {},
          "output_type": "display_data"
        }
      ],
      "source": [
        "import seaborn as sns\n",
        "sns.set_style(\"darkgrid\")\n",
        "\n",
        "fig = plt.figure()\n",
        "fig.subplots_adjust(hspace=0.2, wspace=0.2)\n",
        "\n",
        "plt.subplot(1, 2, 1)\n",
        "ax = sns.lineplot(x = original.index, y = original[0], label=\"Data\", color='royalblue')\n",
        "ax = sns.lineplot(x = predict.index, y = predict[0], label=\"Training Prediction (LSTM)\", color='tomato')\n",
        "ax.set_title('Stock price', size = 14, fontweight='bold')\n",
        "ax.set_xlabel(\"Days\", size = 14)\n",
        "ax.set_ylabel(\"Cost (USD)\", size = 14)\n",
        "ax.set_xticklabels('', size=10)\n",
        "\n",
        "\n",
        "plt.subplot(1, 2, 2)\n",
        "ax = sns.lineplot(data=hist, color='royalblue')\n",
        "ax.set_xlabel(\"Epoch\", size = 14)\n",
        "ax.set_ylabel(\"Loss\", size = 14)\n",
        "ax.set_title(\"Training Loss\", size = 14, fontweight='bold')\n",
        "fig.set_figheight(6)\n",
        "fig.set_figwidth(16)\n"
      ]
    }
  ],
  "metadata": {
    "interpreter": {
      "hash": "1c355c6ec7af3c347fe2fe0a4425341136fd0ab7a7a691969d8891f76eed85b4"
    },
    "kernelspec": {
      "display_name": "Python 3.9.7 ('deeplearning')",
      "language": "python",
      "name": "python3"
    },
    "language_info": {
      "codemirror_mode": {
        "name": "ipython",
        "version": 3
      },
      "file_extension": ".py",
      "mimetype": "text/x-python",
      "name": "python",
      "nbconvert_exporter": "python",
      "pygments_lexer": "ipython3",
      "version": "3.9.7"
    },
    "orig_nbformat": 4,
    "colab": {
      "provenance": [],
      "include_colab_link": true
    }
  },
  "nbformat": 4,
  "nbformat_minor": 0
}